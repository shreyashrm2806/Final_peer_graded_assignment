{
 "cells": [
  {
   "cell_type": "markdown",
   "id": "313df1d0-674c-4e59-87b1-a10e07c62676",
   "metadata": {},
   "source": [
    "<h1>Data Science Tools and Ecosystem </h1>"
   ]
  },
 {
   "cell_type": "markdown",
   "id": "f1c953c2-cd7a-49ff-b259-9ceb559ff622",
   "metadata": {},
   "source": [
    "In this notebook, Data Science Tools and Ecosystem are summarized.\n"
   ]
  },
 {
   "cell_type": "markdown",
   "id": "1b0ad9e1-8bfc-4e79-a4ba-2aecdc1ce8ac",
   "metadata": {},
   "source": [
    "Some of the popular languages that Data Scientists use are:\n",
    "1.Python\n",
    "2.R\n",
    "3.SQL"
   ]
  },
{
   "cell_type": "markdown",
   "id": "77886963-0199-4f29-b8f6-37114535f045",
   "metadata": {},
   "source": [
    "Some of the commonly used libraries used by Data Scientists include:\n",
    "1.Pandas\n",
    "2.Matplotlib\n",
    "3.Numpy"
   ]
  },
{
   "cell_type": "markdown",
   "id": "7f8c9501-0119-45a9-b076-3735feb9ca54",
   "metadata": {},
   "source": [
    "|Data Science Tools|\n",
    "|:----------------:|\n",
    "| Git hub          |\n",
    "|Rstudio           |\n",
    "|Hadoop            |\n",
    "    "
   ]
  },
 {
   "cell_type": "markdown",
   "id": "82d74a60-8b77-4e23-9a92-96c3a578c9c8",
   "metadata": {},
   "source": [
    "<h3>Below are a few examples of evaluating arithmetic expressions in Python</h3>"
   ]
  },
 {
   "cell_type": "code",
   "execution_count": 9,
   "id": "746c3670-f1ce-4933-b86b-a5fdb6b85e99",
   "metadata": {},
   "outputs": [
    {
     "data": {
      "text/plain": [
       "17"
      ]
     },
     "execution_count": 9,
     "metadata": {},
     "output_type": "execute_result"
    }
   ],
   "source": [
    "#This a simple arithmetic expression to mutiply then add integers\n",
    "(3*4)+5"
   ]
  },
{
   "cell_type": "code",
   "execution_count": 13,
   "id": "45e10119-0f79-4572-a2d5-1ee95edf892b",
   "metadata": {},
   "outputs": [
    {
     "data": {
      "text/plain": [
       "3.3333333333333335"
      ]
     },
     "execution_count": 13,
     "metadata": {},
     "output_type": "execute_result"
    }
   ],
   "source": [
    "#This will convert 200 minutes to hours by diving by 60\n",
    "hours=200/60\n",
    "hours"
   ]
  },
{
   "cell_type": "markdown",
   "id": "38b26dd4-6962-42a2-adef-a118f4bf8dee",
   "metadata": {},
   "source": [
    "Objectives:\n",
    "- Learn how to use GitHub\n",
    "- Learn Rstudio\n",
    "- Learn different libraries used in machine learning\n",
    "- Learn importance of data science and it's future"
   ]
  }
 ],
 "metadata": {
  "kernelspec": {
   "display_name": "Python 3 (ipykernel)",
   "language": "python",
   "name": "python3"
  },
  "language_info": {
   "codemirror_mode": {
    "name": "ipython",
    "version": 3
   },
   "file_extension": ".py",
   "mimetype": "text/x-python",
   "name": "python",
   "nbconvert_exporter": "python",
   "pygments_lexer": "ipython3",
   "version": "3.12.4"
  }
 },
 "nbformat": 4,
 "nbformat_minor": 5
}
