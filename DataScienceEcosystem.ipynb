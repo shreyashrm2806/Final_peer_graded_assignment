{
 "cells": [
  {
   "cell_type": "markdown",
   "id": "313df1d0-674c-4e59-87b1-a10e07c62676",
   "metadata": {},
   "source": [
    "<h1>Data Science Tools and Ecosystem </h1>"
   ]
  },

  {
   "cell_type": "code",
   "execution_count": 9,
   "id": "746c3670-f1ce-4933-b86b-a5fdb6b85e99",
   "metadata": {},
   "outputs": [
    {
     "data": {
      "text/plain": [
       "17"
      ]
     },
     "execution_count": 9,
     "metadata": {},
     "output_type": "execute_result"
    }
   ],
   "source": [
    "#This a simple arithmetic expression to mutiply then add integers\n",
    "(3*4)+5"
   ]
  },
  {
   "cell_type": "code",
   "execution_count": 13,
   "id": "45e10119-0f79-4572-a2d5-1ee95edf892b",
   "metadata": {},
   "outputs": [
    {
     "data": {
      "text/plain": [
       "3.3333333333333335"
      ]
     },
     "execution_count": 13,
     "metadata": {},
     "output_type": "execute_result"
    }
   ],
   "source": [
    "#This will convert 200 minutes to hours by diving by 60\n",
    "hours=200/60\n",
    "hours"
   ]
  },
  {
   "cell_type": "markdown",
   "id": "910114c1-f4bc-4ccd-9aa8-7c04afba2ce9",
   "metadata": {},
   "source": [
    "<h2>Author</h2>\n",
    "Shubhalaxmi Ojha"
   ]
  },
  {
   "cell_type": "code",
   "execution_count": null,
   "id": "2cb6d6a1-4009-4843-9cd2-b11cce58a5b6",
   "metadata": {},
   "outputs": [],
   "source": []
  }
 ],
 "metadata": {
  "kernelspec": {
   "display_name": "Python 3 (ipykernel)",
   "language": "python",
   "name": "python3"
  },
  "language_info": {
   "codemirror_mode": {
    "name": "ipython",
    "version": 3
   },
   "file_extension": ".py",
   "mimetype": "text/x-python",
   "name": "python",
   "nbconvert_exporter": "python",
   "pygments_lexer": "ipython3",
   "version": "3.12.4"
  }
 },
 "nbformat": 4,
 "nbformat_minor": 5
}
