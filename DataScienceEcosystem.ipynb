{
 "cells": [
  {
   "cell_type": "markdown",
   "id": "313df1d0-674c-4e59-87b1-a10e07c62676",
   "metadata": {},
   "source": [
    "<h1>Data Science Tools and Ecosystem </h1>"
   ]
  },
 {
   "cell_type": "markdown",
   "id": "f1c953c2-cd7a-49ff-b259-9ceb559ff622",
   "metadata": {},
   "source": [
    "In this notebook, Data Science Tools and Ecosystem are summarized.\n"
   ]
  },
 {
   "cell_type": "markdown",
   "id": "1b0ad9e1-8bfc-4e79-a4ba-2aecdc1ce8ac",
   "metadata": {},
   "source": [
    "Some of the popular languages that Data Scientists use are:\n",
    "1.Python\n",
    "2.R\n",
    "3.SQL"
   ]
  },
{
   "cell_type": "markdown",
   "id": "38b26dd4-6962-42a2-adef-a118f4bf8dee",
   "metadata": {},
   "source": [
    "Objectives:\n",
    "- Learn how to use GitHub\n",
    "- Learn Rstudio\n",
    "- Learn different libraries used in machine learning\n",
    "- Learn importance of data science and it's future"
   ]
  }
 ],
 "metadata": {
  "kernelspec": {
   "display_name": "Python 3 (ipykernel)",
   "language": "python",
   "name": "python3"
  },
  "language_info": {
   "codemirror_mode": {
    "name": "ipython",
    "version": 3
   },
   "file_extension": ".py",
   "mimetype": "text/x-python",
   "name": "python",
   "nbconvert_exporter": "python",
   "pygments_lexer": "ipython3",
   "version": "3.12.4"
  }
 },
 "nbformat": 4,
 "nbformat_minor": 5
}
