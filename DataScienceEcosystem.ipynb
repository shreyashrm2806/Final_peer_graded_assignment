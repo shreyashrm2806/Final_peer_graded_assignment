{
 "cells": [
  {
   "cell_type": "markdown",
   "id": "53dd7003-0db6-4634-90db-28b956681b0a",
   "metadata": {},
   "source": [
    "# Data Science Tools and Ecosystem\n"
   ]
  },
  {
   "cell_type": "markdown",
   "id": "15db8ff5-2d8e-4ff9-97af-a0b0b72351ac",
   "metadata": {},
   "source": [
    "Author:\n",
    "Thato Lesley Tshabalala\n"
   ]
  }
 ],
 "metadata": {
  "kernelspec": {
   "display_name": "Python 3 (ipykernel)",
   "language": "python",
   "name": "python3"
  },
  "language_info": {
   "codemirror_mode": {
    "name": "ipython",
    "version": 3
   },
   "file_extension": ".py",
   "mimetype": "text/x-python",
   "name": "python",
   "nbconvert_exporter": "python",
   "pygments_lexer": "ipython3",
   "version": "3.11.9"
  }
 },
 "nbformat": 4,
 "nbformat_minor": 5
}
