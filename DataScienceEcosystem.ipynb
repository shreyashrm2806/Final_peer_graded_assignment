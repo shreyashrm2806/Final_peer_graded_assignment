{
 "cells": [
  {
   "cell_type": "markdown",
   "id": "53dd7003-0db6-4634-90db-28b956681b0a",
   "metadata": {},
   "source": [
    "# Data Science Tools and Ecosystem\n"
   ]
  },
  {
   "cell_type": "markdown",
   "id": "1e3a5e1b-caf6-4ec1-bcea-53d36d941ec0",
   "metadata": {},
   "source": [
    "Some of the popular languages that Data Scientists use are:\n",
    "1. Python\n",
    "2. R\n",
    "3. SQL\n"
   ]
  },
  {
   "cell_type": "markdown",
   "id": "4668d4a7-f807-4ffa-bc6c-3c1c07bce478",
   "metadata": {},
   "source": [
    "Some of the commonly used libraries used by Data Scientists include:\n",
    "1. Pandas\n",
    "2. NumPy\n",
    "3. Scikit-learn\n"
   ]
  },
  {
   "cell_type": "code",
   "execution_count": null,
   "id": "76e2d3af-3503-457c-9d4a-5c5599862b83",
   "metadata": {},
   "outputs": [],
   "source": [
    "Data Science Tools   \n",
    "______________________\n",
    "Jupyter              \n",
    "RStudio              \n",
    "GitHub               \n"
   ]
  },
  {
   "cell_type": "markdown",
   "id": "b61c4ac3-1e1b-465d-bc56-2697f16c30d1",
   "metadata": {},
   "source": [
    "### Below are a few examples of evaluating arithmetic expressions in Python.\n"
   ]
  },
  {
   "cell_type": "code",
   "execution_count": 1,
   "id": "c819e0d9-b712-4600-87b8-48669f87bdd5",
   "metadata": {},
   "outputs": [
    {
     "data": {
      "text/plain": [
       "17"
      ]
     },
     "execution_count": 1,
     "metadata": {},
     "output_type": "execute_result"
    }
   ],
   "source": [
    "# This is a simple arithmetic expression to multiply then add integers.\n",
    "result = (3 * 4) + 5\n",
    "result\n"
   ]
  },
  {
   "cell_type": "code",
   "execution_count": 2,
   "id": "7ccc145f-30a2-48f2-bc02-d9fb483d30fd",
   "metadata": {},
   "outputs": [
    {
     "data": {
      "text/plain": [
       "3.3333333333333335"
      ]
     },
     "execution_count": 2,
     "metadata": {},
     "output_type": "execute_result"
    }
   ],
   "source": [
    "# This will convert 200 minutes to hours by dividing by 60.\n",
    "hours = 200 / 60\n",
    "hours\n"
   ]
  },
  {
   "cell_type": "markdown",
   "id": "36f92b06-e216-4938-a06f-7343dbe6312b",
   "metadata": {},
   "source": [
    "Objectives:\n",
    "- List popular languages for Data Science.\n",
    "- Identify key libraries used in Data Science.\n",
    "- Understand basic arithmetic operations in Python.\n"
   ]
  },
  {
   "cell_type": "markdown",
   "id": "15db8ff5-2d8e-4ff9-97af-a0b0b72351ac",
   "metadata": {},
   "source": [
    "Author:\n",
    "Thato Lesley Tshabalala\n"
   ]
  }
 ],
 "metadata": {
  "kernelspec": {
   "display_name": "Python 3 (ipykernel)",
   "language": "python",
   "name": "python3"
  },
  "language_info": {
   "codemirror_mode": {
    "name": "ipython",
    "version": 3
   },
   "file_extension": ".py",
   "mimetype": "text/x-python",
   "name": "python",
   "nbconvert_exporter": "python",
   "pygments_lexer": "ipython3",
   "version": "3.11.9"
  }
 },
 "nbformat": 4,
 "nbformat_minor": 5
}
